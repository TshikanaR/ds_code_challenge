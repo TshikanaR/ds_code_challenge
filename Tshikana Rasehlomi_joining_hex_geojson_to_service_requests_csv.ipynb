{
 "cells": [
  {
   "cell_type": "code",
   "execution_count": null,
   "id": "5114e13b",
   "metadata": {},
   "outputs": [],
   "source": [
    "\"\"\"\n",
    "Tshikana Rasehlomi\n",
    "e-mail: rasehlomi@gmail.com\n",
    "DS_CODE CHALLENGE\n",
    "QUESTION 2: INITIAL DATA TRANSFORMATION \n",
    "10-07-2022\n",
    "\"\"\"\n",
    "\n",
    "# Load required modules\n",
    "#=================================================================================================================================\n",
    "import pandas as pd\n",
    "import geopandas as gpd\n",
    "import time\n",
    "import matplotlib.pyplot as plt\n",
    "\n",
    "# read the .geojson and csv files respective\n",
    "#====================================================================================================\n",
    "\n",
    "# read a geojson file\n",
    "#====================================================================================================\n",
    "hex_gjson = gpd.read_file('https://cct-ds-code-challenge-input-data.s3.af-south-1.amazonaws.com/city-hex-polygons-8.geojson') \n",
    "\n",
    "# read a service requests.csv file\n",
    "#====================================================================================================\n",
    "sr_df = pd.read_csv('https://cct-ds-code-challenge-input-data.s3.af-south-1.amazonaws.com/sr.csv.gz', compression='gzip', header=0, sep=',', quotechar='\\\"') \n",
    "# convert a panda dataframe to a geopandas geodataframe\n",
    "#======================================================================================================\n",
    "sr_df_gpd = gpd.GeoDataFrame(sr_df, crs={'init' :'epsg:4326'}, geometry=gpd.points_from_xy(sr_df.longitude, sr_df.latitude))\n",
    "sr_df_gpd.head()"
   ]
  },
  {
   "cell_type": "code",
   "execution_count": null,
   "id": "e14d5837",
   "metadata": {},
   "outputs": [],
   "source": [
    "# quick visualization of the service request map\n",
    "#========================================================================\n",
    "fig, ax = plt.subplots(figsize=(12,10))\n",
    "hex_gjson.plot(color=\"Gray\", ax= ax)\n",
    "sr_df_gpd.plot(ax=ax, markersize=1)\n",
    "ax.set_xlabel('Longitude ($^oE$)', fontsize=10)\n",
    "ax.set_ylabel('Latitude ($^oS$)', fontsize=10)\n",
    "plt.show()"
   ]
  },
  {
   "cell_type": "code",
   "execution_count": null,
   "id": "4389a7de",
   "metadata": {},
   "outputs": [],
   "source": [
    "# check missing values on lat and longitude\n",
    "#====================================================================================================\n",
    "sr_df.isnull().values.any() # check on the entire dataframe\n",
    "sr_df.isnull().values.any() # check on longitude\n",
    "sr_df.latitude.isnull().any() # check on latitude\n",
    "#if there are missing values, replace the lat and longitude values with zero\n",
    "#=====================================================================================================\n",
    "sr_df.longitude.fillna(0,inplace=True)\n",
    "sr_df.latitude.fillna(0,inplace=True)"
   ]
  },
  {
   "cell_type": "code",
   "execution_count": null,
   "id": "43c6ce52",
   "metadata": {},
   "outputs": [],
   "source": [
    "# Before we perform spatial joining of the 2 files we need to answer the following question:\n",
    "# Are the layers in the same projection? \n",
    "#===================================================================================================================\n",
    "hex_gjson.crs == sr_df_gpd.crs # False = No, True = Yes\n",
    "\n",
    "# if they are NOT, then we re-project to the projection of the hex-level-8.json\n",
    "#===================================================================================================================\n",
    "sr_df_gpd = sr_df_gpd.to_crs(hex_gjson.crs)\n",
    "# verify the new crs projection of service requests\n",
    "#===================================================================================================================\n",
    "print(sr_df_gpd.crs)\n",
    "# verify that they have similar projection\n",
    "#====================================================================================================================\n",
    "sr_df_gpd.crs == hex_gjson.crs"
   ]
  },
  {
   "cell_type": "code",
   "execution_count": null,
   "id": "2ed55a4e",
   "metadata": {},
   "outputs": [],
   "source": [
    "# Now we perform a spatial joining of the service request to H3 res level 8.geojson file\n",
    "# Record the time it takes to join service requests to single H3 resolution level 8\n",
    "# include error log record\n",
    "#=======================================================================================\n",
    "\n",
    "start_time = time.time()\n",
    "try:\n",
    "    merged_service_requests = gpd.sjoin(sr_df_gpd, hex_gjson, op=\"within\")\n",
    "    print(\"dataframes successfully merged\")\n",
    "    \n",
    "except FileNotFoundError:\n",
    "    print('file not found')\n",
    "\n",
    "end_time = time.time()\n",
    "\n",
    "print(\"Operation_time_to_merge_df: \",(end_time-start_time),\"sec\")\n",
    "\n",
    "# sample of rows from merged dataframe\n",
    "#=============================================================================================\n",
    "merged_service_requests.head()"
   ]
  },
  {
   "cell_type": "code",
   "execution_count": null,
   "id": "56cbe42d",
   "metadata": {},
   "outputs": [],
   "source": [
    "# quick visualization of the merged dataframe\n",
    "#=======================================================================================\n",
    "merged_service_requests.plot(column=\"official_suburb\", cmap=\"Blues_r\", figsize=(10,6))\n",
    "plt.xlabel('Longitude ($^oE$)', fontsize=10)\n",
    "plt.ylabel('Latitude ($^oS$)', fontsize=10)\n",
    "sr_df_gpd.plot(ax=ax)\n",
    "plt.show()"
   ]
  },
  {
   "cell_type": "code",
   "execution_count": null,
   "id": "12862ac3",
   "metadata": {},
   "outputs": [],
   "source": [
    "# Did our joining function increase or reduce some data points? \n",
    "# check the lengths of the new dataframe vs original dataframe\n",
    "#==============================================================================\n",
    "\n",
    "len(merged_service_requests), len(sr_df_gpd)"
   ]
  },
  {
   "cell_type": "code",
   "execution_count": null,
   "id": "7f87492d",
   "metadata": {},
   "outputs": [],
   "source": [
    "# The new merged dataframe has fewer data points than the original service request dataframe (df_gpd)\n",
    "# importantly, when plot layers on top of each other, it is clear that some points fall outside the grid squares\n",
    "# this means that we may have not necessarily lost the data points\n",
    "# let us visualize  these data points\n",
    "#==============================================================================================\n",
    "fig, ax = plt.subplots(figsize=(10,6))\n",
    "hex_gjson.plot(color=\"Gray\", ax=ax)\n",
    "sr_df_gpd.plot(ax=ax, color='orange', markersize=5)\n",
    "plt.xlabel('Longitude ($^oE$)', fontsize=10)\n",
    "plt.ylabel('Latitude ($^oS$)', fontsize=10)\n",
    "plt.show()"
   ]
  }
 ],
 "metadata": {
  "kernelspec": {
   "display_name": "Python 3 (ipykernel)",
   "language": "python",
   "name": "python3"
  },
  "language_info": {
   "codemirror_mode": {
    "name": "ipython",
    "version": 3
   },
   "file_extension": ".py",
   "mimetype": "text/x-python",
   "name": "python",
   "nbconvert_exporter": "python",
   "pygments_lexer": "ipython3",
   "version": "3.9.12"
  }
 },
 "nbformat": 4,
 "nbformat_minor": 5
}
