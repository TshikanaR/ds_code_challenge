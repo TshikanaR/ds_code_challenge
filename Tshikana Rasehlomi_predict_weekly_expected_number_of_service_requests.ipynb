{
 "cells": [
  {
   "cell_type": "code",
   "execution_count": 1,
   "id": "352770d7",
   "metadata": {},
   "outputs": [],
   "source": [
    "\"\"\"\n",
    "Tshikana Rasehlomi\n",
    "e-mail: rasehlomi@gmail.com\n",
    "DS_CODE CHALLENGE\n",
    "QUESTION 2: Time Series Challenge - Predict expected weekly service requests\n",
    "10-07-2022\n",
    "\"\"\"\n",
    "\n",
    "# Load required modules\n",
    "#==================================================================================\n",
    "from sklearn.preprocessing import *\n",
    "from sklearn.model_selection import train_test_split\n",
    "from sklearn.ensemble import RandomForestClassifier\n",
    "from sklearn.metrics import accuracy_score, mean_squared_error, mean_absolute_error, mean_squared_error\n",
    "import matplotlib.pyplot as plt\n",
    "import numpy as np\n",
    "import pandas as pd\n",
    "import seaborn as sns"
   ]
  },
  {
   "cell_type": "code",
   "execution_count": null,
   "id": "1cb812fc",
   "metadata": {},
   "outputs": [],
   "source": [
    "# read and load the sr_hex.csv data and check the dataframe columns\n",
    "#=========================================================================================\n",
    "sr_hex_df = pd.read_csv('https://cct-ds-code-challenge-input-data.s3.af-south-1.amazonaws.com/sr_hex.csv.gz', compression='gzip', header=0, sep=',', quotechar='\\\"')\n",
    "print(sr_hex_df.columns)"
   ]
  },
  {
   "cell_type": "code",
   "execution_count": null,
   "id": "4d06fc3f",
   "metadata": {},
   "outputs": [],
   "source": [
    "#  we extract input dataframe to be used in our model development by dropping unwanted columns and check the first rows of new dataframe\n",
    "#======================================================================================================================================\n",
    "sr_hex_mod = sr_hex_df.drop(['reference_number', 'completion_timestamp',\n",
    "       'directorate', 'department', 'branch', 'section', 'latitude', 'creation_timestamp',\n",
    "       'longitude', 'h3_level8_index'], axis=1)\n",
    "sr_hex_mod.reset_index(inplace=True)\n",
    "print(sr_hex_mod.head())"
   ]
  },
  {
   "cell_type": "code",
   "execution_count": null,
   "id": "0ed8c580",
   "metadata": {},
   "outputs": [],
   "source": [
    "# we then convert categorical fields to numerical values to be used in model development\n",
    "#=======================================================================================================================\n",
    "number = LabelEncoder()\n",
    "sr_hex_mod['code'] = number.fit_transform(sr_hex_mod['code'].astype('str'))\n",
    "sr_hex_mod['cause_code'] = number.fit_transform(sr_hex_mod['cause_code'].astype('str'))\n",
    "sr_hex_mod['code_group'] = number.fit_transform(sr_hex_mod['code_group'].astype('str'))\n",
    "sr_hex_mod['official_suburb'] = number.fit_transform(sr_hex_mod['official_suburb'].astype('str'))\n",
    "sr_hex_mod['notification_number'] = number.fit_transform(sr_hex_mod['notification_number'].astype('str'))\n",
    "sr_hex_mod['cause_code_group'] = number.fit_transform(sr_hex_mod['cause_code_group'].astype('str'))\n",
    "print(sr_hex_mod.head())"
   ]
  },
  {
   "cell_type": "code",
   "execution_count": null,
   "id": "6a8d10e2",
   "metadata": {},
   "outputs": [],
   "source": [
    "# we define a way to handle the official suburb in the datasets\n",
    "#=====================================================================================================\n",
    "def compute_service(x):\n",
    "    accept = [range(0,8)]\n",
    "    if x not in accept:\n",
    "        return 0\n",
    "    else:\n",
    "        return x\n",
    "    \n",
    "sr_hex_mod['official_suburb'] = sr_hex_mod['official_suburb'].apply(compute_service)"
   ]
  },
  {
   "cell_type": "code",
   "execution_count": null,
   "id": "04a51d65",
   "metadata": {},
   "outputs": [],
   "source": [
    "# we define independent and dependent variables from our data prepared for model development\n",
    "#========================================================================================================\n",
    "y = sr_hex_mod['code'].values\n",
    "X = sr_hex_mod.values"
   ]
  },
  {
   "cell_type": "code",
   "execution_count": null,
   "id": "a6e3881b",
   "metadata": {},
   "outputs": [],
   "source": [
    "# Split data into training and test samples of 80%-20%\n",
    "#==========================================================================================================\n",
    "X_train, X_test, y_train, y_test = train_test_split(X,y, test_size = .2, random_state=0)"
   ]
  },
  {
   "cell_type": "code",
   "execution_count": null,
   "id": "1251c8fc",
   "metadata": {},
   "outputs": [],
   "source": [
    "# we compute a RandomForest classifier by providing number of trees (n_estimators) and\n",
    "# minimum number of samples required to be at a leaf node for the tree (min_samples_leaf)\n",
    "#==============================================================================================================\n",
    "Rf = RandomForestClassifier(n_estimators=20, min_samples_leaf=5, random_state=0)\n",
    "Rf.fit(X_train, y_train)\n",
    "y_pred = Rf.predict(X_test)\n",
    "print(y_pred)"
   ]
  },
  {
   "cell_type": "code",
   "execution_count": null,
   "id": "a43d66b1",
   "metadata": {},
   "outputs": [],
   "source": [
    "# check the difference between predicted vs actual service requests\n",
    "#====================================================================================================================\n",
    "\n",
    "diff =pd.DataFrame({'Actual':y_test, 'Predicted':y_pred})\n",
    "print(diff.head())\n",
    "\n",
    "# let's visualize these difference on a graph\n",
    "#=====================================================================================================================\n",
    "\n",
    "plt.figure(figsize=(8, 8))\n",
    "ax = sns.distplot(y, hist=False, color=\"r\", label=\"Actual Value\")\n",
    "sns.distplot(y_pred, hist=False, color=\"b\", label=\"Fitted Values\" , ax=ax)\n",
    "plt.title('Actual vs Fitted Values for service requests')\n",
    "plt.show()\n",
    "plt.close()"
   ]
  },
  {
   "cell_type": "code",
   "execution_count": null,
   "id": "203c7410",
   "metadata": {},
   "outputs": [],
   "source": [
    "# evaluate model performance and once happy use it to predict the service request per hex for the next 4 weeks\n",
    "#==============================================================================================================\n",
    "print('Accuracy: ', accuracy_score(y_test, y_pred)*100)\n",
    "print('Mean Absolute Error:', mean_absolute_error(y_test, y_pred))\n",
    "print('Mean Squared Error:', mean_squared_error(y_test, y_pred))\n",
    "print('Root Mean Squared Error:', np.sqrt(mean_squared_error(y_test, y_pred)))"
   ]
  },
  {
   "cell_type": "code",
   "execution_count": null,
   "id": "11bfcfe3",
   "metadata": {},
   "outputs": [],
   "source": [
    "# our model achieved 99% accuracy which is greater than the initial target of 95%\n",
    "# we confidently use it to predicted expected service requests per hex for next 4 weeks (roughly 28 days)\n",
    "# using our model we make a one-step prediction\n",
    "\n",
    "y_pred = Rf.predict(X_test)\n",
    "\n",
    "expected_service_requests = y_pred[28]\n",
    "\n",
    "print(expected_service_requests)"
   ]
  }
 ],
 "metadata": {
  "kernelspec": {
   "display_name": "Python 3 (ipykernel)",
   "language": "python",
   "name": "python3"
  },
  "language_info": {
   "codemirror_mode": {
    "name": "ipython",
    "version": 3
   },
   "file_extension": ".py",
   "mimetype": "text/x-python",
   "name": "python",
   "nbconvert_exporter": "python",
   "pygments_lexer": "ipython3",
   "version": "3.9.12"
  }
 },
 "nbformat": 4,
 "nbformat_minor": 5
}
