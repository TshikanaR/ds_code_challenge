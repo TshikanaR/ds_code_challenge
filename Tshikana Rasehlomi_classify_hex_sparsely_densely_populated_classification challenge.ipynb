{
 "cells": [
  {
   "cell_type": "code",
   "execution_count": 1,
   "id": "65f171ab",
   "metadata": {},
   "outputs": [],
   "source": [
    "\"\"\"\n",
    "Tshikana Rasehlomi\n",
    "e-mail: rasehlomi@gmail.com\n",
    "DS_CODE CHALLENGE\n",
    "QUESTION 4: Classification challenge\n",
    "10-07-2022\n",
    "\"\"\"\n",
    "# Load required modules\n",
    "#============================================================================================================================\n",
    "import pandas as pd\n",
    "import numpy as np\n",
    "from pycaret.datasets import get_data\n",
    "from sklearn.preprocessing import *\n",
    "from sklearn.preprocessing import StandardScaler\n",
    "from sklearn.model_selection import train_test_split\n",
    "from sklearn.ensemble import RandomForestClassifier\n",
    "from sklearn.metrics import confusion_matrix, accuracy_score, r2_score, mean_squared_error, classification_report\n",
    "from sklearn.model_selection import RandomizedSearchCV\n",
    "from sklearn.ensemble import RandomForestRegressor\n",
    "from pprint import pprint"
   ]
  },
  {
   "cell_type": "code",
   "execution_count": null,
   "id": "b4bdcfe9",
   "metadata": {},
   "outputs": [],
   "source": [
    "# read and load the sr_hex.csv data\n",
    "#===============================================================================================================\n",
    "sr_hex_df = pd.read_csv('https://cct-ds-code-challenge-input-data.s3.af-south-1.amazonaws.com/sr_hex.csv.gz', compression='gzip', header=0, sep=',', quotechar='\\\"')\n",
    "# convert timestamp to datetime\n",
    "#================================================================================================================\n",
    "sr_hex_df['creation_timestamp'] = pd.to_datetime(df['creation_timestamp'])\n",
    "# set the index using creation_timestamp\n",
    "#===============================================================================================================\n",
    "sr_hex_df.set_index(\"creation_timestamp\", inplace=True )"
   ]
  },
  {
   "cell_type": "code",
   "execution_count": null,
   "id": "3643f985",
   "metadata": {},
   "outputs": [],
   "source": [
    "# extracting input dataframe to be used in a model\n",
    "#===============================================================================================================\n",
    "sr_hex_df_mod = df.drop(['reference_number', 'completion_timestamp', 'notification_number',\n",
    "       'directorate', 'department', 'branch', 'section', 'latitude','cause_code_group',  'official_suburb',\n",
    "       'longitude', 'h3_level8_index'], axis=1)\n",
    "sr_hex_df_mod.head()"
   ]
  },
  {
   "cell_type": "code",
   "execution_count": null,
   "id": "16a6afa6",
   "metadata": {},
   "outputs": [],
   "source": [
    "# replace missing values with 0\n",
    "#======================================\n",
    "sr_hex_df_mod = sr_hex_df_mod.fillna(0)"
   ]
  },
  {
   "cell_type": "code",
   "execution_count": null,
   "id": "1f05c865",
   "metadata": {},
   "outputs": [],
   "source": [
    "# Convert categorical (text) fields to numbers\n",
    "#===================================================================================================\n",
    "number = LabelEncoder()\n",
    "sr_hex_df_mod['code'] = number.fit_transform(sr_hex_df_mod['code'].astype('str'))\n",
    "sr_hex_df_mod['cause_code'] = number.fit_transform(sr_hex_df_mod['cause_code'].astype('str'))\n",
    "sr_hex_df_mod['code_group'] = number.fit_transform(sr_hex_df_mod['code_group'].astype('str'))\n",
    "print(sr_hex_df_mod)"
   ]
  },
  {
   "cell_type": "code",
   "execution_count": null,
   "id": "dc5ae82b",
   "metadata": {},
   "outputs": [],
   "source": [
    "# prepare data for training\n",
    "#=============================================================================\n",
    "#df_model = df_model.fillna(0)\n",
    "X = sr_hex_df_mod.iloc[:, 0:2].values\n",
    "y = sr_hex_df_mod.iloc[:, 2].values\n",
    "\n",
    "# Split the dataset into Train set and Test set\n",
    "#==============================================================================\n",
    "X_train, X_test, y_train, y_test = train_test_split(X, y, test_size=0.25, random_state=0)"
   ]
  },
  {
   "cell_type": "code",
   "execution_count": null,
   "id": "5a4b5350",
   "metadata": {},
   "outputs": [],
   "source": [
    "# Perform feature scaling\n",
    "#===============================================================================\n",
    "sc = StandardScaler()\n",
    "X_train = sc.fit_transform(X_train)\n",
    "X_test = sc.transform(X_test)"
   ]
  },
  {
   "cell_type": "code",
   "execution_count": null,
   "id": "f7e27f3e",
   "metadata": {},
   "outputs": [],
   "source": [
    "# compute the RandomForest classifier\n",
    "#==================================================================================\n",
    "classifier = RandomForestClassifier(n_estimators = 70, random_state = 0)\n",
    "classifier.fit(X_train, y_train)\n",
    "y_pred = classifier.predict(X_test)\n",
    "\n",
    "# evaluate the created algorithm\n",
    "#===================================================================================\n",
    "print(confusion_matrix(y_test,y_pred))\n",
    "print(classification_report(y_test,y_pred))\n",
    "print(accuracy_score(y_test, y_pred))"
   ]
  }
 ],
 "metadata": {
  "kernelspec": {
   "display_name": "Python 3 (ipykernel)",
   "language": "python",
   "name": "python3"
  },
  "language_info": {
   "codemirror_mode": {
    "name": "ipython",
    "version": 3
   },
   "file_extension": ".py",
   "mimetype": "text/x-python",
   "name": "python",
   "nbconvert_exporter": "python",
   "pygments_lexer": "ipython3",
   "version": "3.9.12"
  }
 },
 "nbformat": 4,
 "nbformat_minor": 5
}
